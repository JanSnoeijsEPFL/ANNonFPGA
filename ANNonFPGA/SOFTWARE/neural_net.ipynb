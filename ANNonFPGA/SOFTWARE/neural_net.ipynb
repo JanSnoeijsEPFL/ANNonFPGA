{
 "cells": [
  {
   "cell_type": "code",
   "execution_count": 20,
   "metadata": {},
   "outputs": [
    {
     "name": "stdout",
     "output_type": "stream",
     "text": [
      "The autoreload extension is already loaded. To reload it, use:\n",
      "  %reload_ext autoreload\n"
     ]
    }
   ],
   "source": [
    "import numpy as np\n",
    "import framework\n",
    "import implementations as func\n",
    "import matplotlib.pyplot as plt\n",
    "import importlib\n",
    "import pandas as pd\n",
    "%load_ext autoreload\n",
    "%autoreload 2\n",
    "%matplotlib notebook"
   ]
  },
  {
   "cell_type": "code",
   "execution_count": 21,
   "metadata": {},
   "outputs": [],
   "source": [
    "class Linear():  \n",
    "  \n",
    "    # initialization function\n",
    "    def __init__():\n",
    "        print(\"creating Linear layer\")\n",
    "    # forward pass calculation\n",
    "    # receives input tensor of shape : [nb_samples x insize]\n",
    "    def forward(X,W): \n",
    "        # [nb_samples x insize] x [insize x outsize] + [nb_samples x outsize] => [nb_samples x outsize]\n",
    "        H = X @ W\n",
    "        return H\n",
    "    \n",
    "    # backward pass calculation\n",
    "    # receives gradient of the next layer\n",
    "    # returns gradient with respect to the input. \n",
    "    # returns derivative with respect to the weights.\n",
    "    def backward(dH, X, W):\n",
    "        # matrix multiplication [nb_samples, outsize]*[insize, outsize]^t => [nb_samples x insize]\n",
    "        # sum over samples for parameters (normal Gradient Descent. If divided into batches -> SGD)\n",
    "        dX = dH @ np.transpose(W)\n",
    "        dW = X @ np.transpose(dH) # update weights\n",
    "        return dX, dW\n",
    "    \n",
    "  "
   ]
  },
  {
   "cell_type": "code",
   "execution_count": 22,
   "metadata": {},
   "outputs": [],
   "source": [
    "\n",
    "def update_weights(dW, W, gamma):\n",
    "    W = W - gamma*dW"
   ]
  },
  {
   "cell_type": "code",
   "execution_count": 23,
   "metadata": {},
   "outputs": [],
   "source": [
    "class GRU():\n",
    "    \n",
    "    def __init__():\n",
    "        print(\"creating GRU layer\")\n",
    "    \n",
    "    def forward(Xz, Wz, Uz, Xh, Wh, Uh, Xr, Wr, Ur, sn_1):\n",
    "        zn = sigmoid(Xz @ Wz + sn_1 @ Uz)\n",
    "        rn = sigmoid(Xr @ Wr + sn_1 @ Ur)\n",
    "        hn = tanh(Xh @ Wh + rn * (sn_1 @ Uh))\n",
    "        sn = zn*hn + (1-zn)*sn_1\n",
    "        return sn\n",
    "    \n",
    "    def backward(dS, Xz, Wz, Uz, Xh, Wh, Uh, Xr, Wr, Ur, sn_1):\n",
    "        \n",
    "        "
   ]
  },
  {
   "cell_type": "code",
   "execution_count": 6,
   "metadata": {},
   "outputs": [],
   "source": []
  },
  {
   "cell_type": "code",
   "execution_count": 7,
   "metadata": {},
   "outputs": [],
   "source": []
  },
  {
   "cell_type": "code",
   "execution_count": 36,
   "metadata": {},
   "outputs": [
    {
     "ename": "SyntaxError",
     "evalue": "invalid syntax (<ipython-input-36-03c12e0ba06b>, line 3)",
     "output_type": "error",
     "traceback": [
      "\u001b[1;36m  File \u001b[1;32m\"<ipython-input-36-03c12e0ba06b>\"\u001b[1;36m, line \u001b[1;32m3\u001b[0m\n\u001b[1;33m    for i in range(np.sum(np.arrange(1:30))):\u001b[0m\n\u001b[1;37m                                      ^\u001b[0m\n\u001b[1;31mSyntaxError\u001b[0m\u001b[1;31m:\u001b[0m invalid syntax\n"
     ]
    }
   ],
   "source": []
  },
  {
   "cell_type": "code",
   "execution_count": null,
   "metadata": {},
   "outputs": [],
   "source": []
  },
  {
   "cell_type": "code",
   "execution_count": null,
   "metadata": {},
   "outputs": [],
   "source": []
  }
 ],
 "metadata": {
  "kernelspec": {
   "display_name": "Python 3",
   "language": "python",
   "name": "python3"
  },
  "language_info": {
   "codemirror_mode": {
    "name": "ipython",
    "version": 3
   },
   "file_extension": ".py",
   "mimetype": "text/x-python",
   "name": "python",
   "nbconvert_exporter": "python",
   "pygments_lexer": "ipython3",
   "version": "3.7.0"
  }
 },
 "nbformat": 4,
 "nbformat_minor": 2
}
